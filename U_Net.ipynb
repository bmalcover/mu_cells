{
  "nbformat": 4,
  "nbformat_minor": 0,
  "metadata": {
    "accelerator": "GPU",
    "colab": {
      "name": "U-Net.ipynb",
      "provenance": [],
      "collapsed_sections": [],
      "toc_visible": true
    },
    "kernelspec": {
      "display_name": "Python 3",
      "name": "python3"
    }
  },
  "cells": [
    {
      "cell_type": "markdown",
      "metadata": {
        "id": "YZ_9YMQZj-6V"
      },
      "source": [
        "# Classificació de cel·lules usant la U-Net\r\n",
        "\r\n",
        "**TODO: Descripcio**\r\n",
        "\r\n",
        "*La següent cel·la s'ha d'executar sempre*"
      ]
    },
    {
      "cell_type": "code",
      "metadata": {
        "colab": {
          "base_uri": "https://localhost:8080/"
        },
        "id": "FbielMZVDjLg",
        "outputId": "ca5cc076-db3e-43e5-c176-8c16d60dbeee"
      },
      "source": [
        "from google.colab import drive\r\n",
        "drive.mount('/content/gdrive')"
      ],
      "execution_count": 1,
      "outputs": [
        {
          "output_type": "stream",
          "text": [
            "Mounted at /content/gdrive\n"
          ],
          "name": "stdout"
        }
      ]
    },
    {
      "cell_type": "code",
      "metadata": {
        "colab": {
          "base_uri": "https://localhost:8080/"
        },
        "id": "PmOJX379CBNa",
        "outputId": "2aff9d45-f016-4c1b-c982-4ae53199f172"
      },
      "source": [
        "%cd gdrive/My Drive/u_net_folder"
      ],
      "execution_count": 2,
      "outputs": [
        {
          "output_type": "stream",
          "text": [
            "/content/gdrive/My Drive/u_net_folder\n"
          ],
          "name": "stdout"
        }
      ]
    },
    {
      "cell_type": "code",
      "metadata": {
        "colab": {
          "base_uri": "https://localhost:8080/"
        },
        "id": "QiDvEMVoD9gs",
        "outputId": "7350f35a-4222-488e-c5cd-5fab154e5436"
      },
      "source": [
        "!git clone https://github.com/bmalcover/u_cells\r\n",
        "%cd u_cells\r\n",
        "!git checkout 'dev/miquel'\r\n",
        "%cd .."
      ],
      "execution_count": 19,
      "outputs": [
        {
          "output_type": "stream",
          "text": [
            "fatal: destination path 'u_cells' already exists and is not an empty directory.\n",
            "/content/gdrive/My Drive/u_net_folder/u_cells\n",
            "M\tmodel.py\n",
            "Already on 'dev/miquel'\n",
            "Your branch is up to date with 'origin/dev/miquel'.\n",
            "/content/gdrive/My Drive/u_net_folder\n"
          ],
          "name": "stdout"
        }
      ]
    },
    {
      "cell_type": "markdown",
      "metadata": {
        "id": "a_aL_C7ID6vK"
      },
      "source": [
        "**DATA**\r\n",
        "\r\n",
        "Només executar si dins la carpeta *u_net_folder* no hi ha la carpeta *unet_color_quatre*"
      ]
    },
    {
      "cell_type": "code",
      "metadata": {
        "colab": {
          "base_uri": "https://localhost:8080/"
        },
        "id": "4m51n8GG_v7J",
        "outputId": "c5cdbd26-4fb4-44d9-9838-1629cc7fba9d"
      },
      "source": [
        "#!wget -O dataset.zip https://www.dropbox.com/s/3zfz89hik6989h5/dataset.zip?dl=1\n",
        "!wget -O dataset_four.zip https://www.dropbox.com/s/0v6rdf3xhoge0vh/unet_color_quatre.zip?dl=1 \n",
        "#!wget -O dataset_gt.zip https://www.dropbox.com/s/wvjlpqykck6jwc6/unet_color_tres.zip?dl=1\n",
        "#!wget -O dataset_gros.zip https://www.dropbox.com/s/e7ndtiqce74gqli/sub.zip?dl=1\n",
        " \n",
        "#!unzip dataset.zip\n",
        "!unzip dataset_four.zip > /dev/null\n",
        "#!unzip dataset_gt.zip\n",
        "#!unzip dataset_gros.zip"
      ],
      "execution_count": null,
      "outputs": [
        {
          "output_type": "stream",
          "text": [
            "--2021-01-14 15:00:11--  https://www.dropbox.com/s/0v6rdf3xhoge0vh/unet_color_quatre.zip?dl=1\n",
            "Resolving www.dropbox.com (www.dropbox.com)... 162.125.6.18, 2620:100:601c:18::a27d:612\n",
            "Connecting to www.dropbox.com (www.dropbox.com)|162.125.6.18|:443... connected.\n",
            "HTTP request sent, awaiting response... 301 Moved Permanently\n",
            "Location: /s/dl/0v6rdf3xhoge0vh/unet_color_quatre.zip [following]\n",
            "--2021-01-14 15:00:12--  https://www.dropbox.com/s/dl/0v6rdf3xhoge0vh/unet_color_quatre.zip\n",
            "Reusing existing connection to www.dropbox.com:443.\n",
            "HTTP request sent, awaiting response... "
          ],
          "name": "stdout"
        }
      ]
    },
    {
      "cell_type": "markdown",
      "metadata": {
        "id": "yLMGqb9qkYJG"
      },
      "source": [
        "Llibreries"
      ]
    },
    {
      "cell_type": "code",
      "metadata": {
        "id": "g4SSovO3EcTi"
      },
      "source": [
        "# %tensorflow_version 1.x\n",
        "import io\n",
        "from datetime import datetime\n",
        "\n",
        "from matplotlib import pyplot as plt\n",
        "\n",
        "from numpy.random import seed\n",
        "import tensorflow as tf\n",
        "from tensorflow.keras import metrics\n",
        "import keras\n",
        "import keras.backend as K\n",
        "from PIL import Image\n",
        "\n",
        "\n",
        "import numpy as np\n",
        "import cv2\n",
        "\n",
        "seed(1)\n",
        "#print(tf.__version__)"
      ],
      "execution_count": 3,
      "outputs": []
    },
    {
      "cell_type": "markdown",
      "metadata": {
        "id": "yRYXhO98TKQD"
      },
      "source": [
        "Funcionalitats propies\r\n",
        "\r\n"
      ]
    },
    {
      "cell_type": "code",
      "metadata": {
        "colab": {
          "base_uri": "https://localhost:8080/"
        },
        "id": "cLd9Ztk4Az92",
        "outputId": "a607a9d1-849a-4981-9310-4565974627ae"
      },
      "source": [
        "%cd u_cells/\r\n",
        "\r\n",
        "from model import *\r\n",
        "from data import *\r\n",
        "\r\n",
        "%cd .."
      ],
      "execution_count": 4,
      "outputs": [
        {
          "output_type": "stream",
          "text": [
            "/content/gdrive/My Drive/u_net_folder/u_cells\n",
            "/content/gdrive/My Drive/u_net_folder\n"
          ],
          "name": "stdout"
        }
      ]
    },
    {
      "cell_type": "markdown",
      "metadata": {
        "id": "blX2Fvo1jw_J"
      },
      "source": [
        "### Preparació de les dades i generació de la xarxa\r\n",
        "---"
      ]
    },
    {
      "cell_type": "code",
      "metadata": {
        "colab": {
          "base_uri": "https://localhost:8080/"
        },
        "id": "gNJR2CqeEUX9",
        "outputId": "aae34146-c811-4b83-de9c-fcf3765d818b"
      },
      "source": [
        "test_path_root = \"./unet_color_quatre/test/image/\"\n",
        "test_path = test_path_root + \"*.png\"\n",
        "train_path = './unet_color_quatre/train'\n",
        "generator_path = None #'./generator5/'\n",
        "tb_dir = \"./log/\" + datetime.now().strftime(\"%Y/%m/%d-%H:%M:%S\")\n",
        "# tb_cb = keras.callbacks.TensorBoard(tb_dir, write_graph=True, update_freq=10)\n",
        "\n",
        "data_gen_args = dict(rotation_range=0.2,\n",
        "\t\t\t\t\t\twidth_shift_range=0.05,\n",
        "\t\t\t\t\t\theight_shift_range=0.05,\n",
        "\t\t\t\t\t\tshear_range=0.05,\n",
        "\t\t\t\t\t\tzoom_range=0.05,\n",
        "\t\t\t\t\t\thorizontal_flip=True,\n",
        "\t\t\t\t\t\tfill_mode='nearest')\n",
        "\n",
        "myGene = trainGenerator(2, train_path,'image','label',data_gen_args,save_to_dir = generator_path, mask_color_mode = \"rgb\", decode_flag=True, target_size=(512,512)) #AQui\n",
        "\n",
        "model = get_small_unet(n_filters=64, bn = True, input_size=(512,512,1), output_channels = 3, loss_func = dice_coef_loss) ### AqUI!!!!!\n",
        "# model_checkpoint = ModelCheckpoint('unet_membrane.hdf5', monitor='loss',verbose=1, save_best_only=True)\n",
        "#tf.keras.utils.plot_model(model, show_shapes=True, show_layer_names=True)\n",
        "\n"
      ],
      "execution_count": 5,
      "outputs": [
        {
          "output_type": "stream",
          "text": [
            "Model: \"model\"\n",
            "__________________________________________________________________________________________________\n",
            "Layer (type)                    Output Shape         Param #     Connected to                     \n",
            "==================================================================================================\n",
            "input_1 (InputLayer)            [(None, 512, 512, 1) 0                                            \n",
            "__________________________________________________________________________________________________\n",
            "conv2d (Conv2D)                 (None, 512, 512, 64) 640         input_1[0][0]                    \n",
            "__________________________________________________________________________________________________\n",
            "batch_normalization (BatchNorma (None, 512, 512, 64) 256         conv2d[0][0]                     \n",
            "__________________________________________________________________________________________________\n",
            "conv2d_1 (Conv2D)               (None, 512, 512, 64) 36928       batch_normalization[0][0]        \n",
            "__________________________________________________________________________________________________\n",
            "batch_normalization_1 (BatchNor (None, 512, 512, 64) 256         conv2d_1[0][0]                   \n",
            "__________________________________________________________________________________________________\n",
            "max_pooling2d (MaxPooling2D)    (None, 256, 256, 64) 0           batch_normalization_1[0][0]      \n",
            "__________________________________________________________________________________________________\n",
            "conv2d_2 (Conv2D)               (None, 256, 256, 128 73856       max_pooling2d[0][0]              \n",
            "__________________________________________________________________________________________________\n",
            "batch_normalization_2 (BatchNor (None, 256, 256, 128 512         conv2d_2[0][0]                   \n",
            "__________________________________________________________________________________________________\n",
            "conv2d_3 (Conv2D)               (None, 256, 256, 128 147584      batch_normalization_2[0][0]      \n",
            "__________________________________________________________________________________________________\n",
            "batch_normalization_3 (BatchNor (None, 256, 256, 128 512         conv2d_3[0][0]                   \n",
            "__________________________________________________________________________________________________\n",
            "max_pooling2d_1 (MaxPooling2D)  (None, 128, 128, 128 0           batch_normalization_3[0][0]      \n",
            "__________________________________________________________________________________________________\n",
            "conv2d_4 (Conv2D)               (None, 128, 128, 256 295168      max_pooling2d_1[0][0]            \n",
            "__________________________________________________________________________________________________\n",
            "batch_normalization_4 (BatchNor (None, 128, 128, 256 1024        conv2d_4[0][0]                   \n",
            "__________________________________________________________________________________________________\n",
            "conv2d_5 (Conv2D)               (None, 128, 128, 256 590080      batch_normalization_4[0][0]      \n",
            "__________________________________________________________________________________________________\n",
            "batch_normalization_5 (BatchNor (None, 128, 128, 256 1024        conv2d_5[0][0]                   \n",
            "__________________________________________________________________________________________________\n",
            "max_pooling2d_2 (MaxPooling2D)  (None, 64, 64, 256)  0           batch_normalization_5[0][0]      \n",
            "__________________________________________________________________________________________________\n",
            "conv2d_6 (Conv2D)               (None, 64, 64, 512)  1180160     max_pooling2d_2[0][0]            \n",
            "__________________________________________________________________________________________________\n",
            "batch_normalization_6 (BatchNor (None, 64, 64, 512)  2048        conv2d_6[0][0]                   \n",
            "__________________________________________________________________________________________________\n",
            "conv2d_7 (Conv2D)               (None, 64, 64, 512)  2359808     batch_normalization_6[0][0]      \n",
            "__________________________________________________________________________________________________\n",
            "batch_normalization_7 (BatchNor (None, 64, 64, 512)  2048        conv2d_7[0][0]                   \n",
            "__________________________________________________________________________________________________\n",
            "max_pooling2d_3 (MaxPooling2D)  (None, 32, 32, 512)  0           batch_normalization_7[0][0]      \n",
            "__________________________________________________________________________________________________\n",
            "conv2d_8 (Conv2D)               (None, 32, 32, 1024) 4719616     max_pooling2d_3[0][0]            \n",
            "__________________________________________________________________________________________________\n",
            "batch_normalization_8 (BatchNor (None, 32, 32, 1024) 4096        conv2d_8[0][0]                   \n",
            "__________________________________________________________________________________________________\n",
            "conv2d_9 (Conv2D)               (None, 32, 32, 1024) 9438208     batch_normalization_8[0][0]      \n",
            "__________________________________________________________________________________________________\n",
            "batch_normalization_9 (BatchNor (None, 32, 32, 1024) 4096        conv2d_9[0][0]                   \n",
            "__________________________________________________________________________________________________\n",
            "up_sampling2d (UpSampling2D)    (None, 64, 64, 1024) 0           batch_normalization_9[0][0]      \n",
            "__________________________________________________________________________________________________\n",
            "conv2d_10 (Conv2D)              (None, 64, 64, 512)  2097664     up_sampling2d[0][0]              \n",
            "__________________________________________________________________________________________________\n",
            "concatenate (Concatenate)       (None, 64, 64, 1024) 0           conv2d_10[0][0]                  \n",
            "                                                                 batch_normalization_7[0][0]      \n",
            "__________________________________________________________________________________________________\n",
            "conv2d_11 (Conv2D)              (None, 64, 64, 512)  4719104     concatenate[0][0]                \n",
            "__________________________________________________________________________________________________\n",
            "batch_normalization_10 (BatchNo (None, 64, 64, 512)  2048        conv2d_11[0][0]                  \n",
            "__________________________________________________________________________________________________\n",
            "conv2d_12 (Conv2D)              (None, 64, 64, 512)  2359808     batch_normalization_10[0][0]     \n",
            "__________________________________________________________________________________________________\n",
            "batch_normalization_11 (BatchNo (None, 64, 64, 512)  2048        conv2d_12[0][0]                  \n",
            "__________________________________________________________________________________________________\n",
            "up_sampling2d_1 (UpSampling2D)  (None, 128, 128, 512 0           batch_normalization_11[0][0]     \n",
            "__________________________________________________________________________________________________\n",
            "conv2d_13 (Conv2D)              (None, 128, 128, 256 524544      up_sampling2d_1[0][0]            \n",
            "__________________________________________________________________________________________________\n",
            "conc_7 (Concatenate)            (None, 128, 128, 512 0           conv2d_13[0][0]                  \n",
            "                                                                 batch_normalization_5[0][0]      \n",
            "__________________________________________________________________________________________________\n",
            "conv2d_14 (Conv2D)              (None, 128, 128, 256 1179904     conc_7[0][0]                     \n",
            "__________________________________________________________________________________________________\n",
            "batch_normalization_12 (BatchNo (None, 128, 128, 256 1024        conv2d_14[0][0]                  \n",
            "__________________________________________________________________________________________________\n",
            "conv2d_15 (Conv2D)              (None, 128, 128, 256 590080      batch_normalization_12[0][0]     \n",
            "__________________________________________________________________________________________________\n",
            "batch_normalization_13 (BatchNo (None, 128, 128, 256 1024        conv2d_15[0][0]                  \n",
            "__________________________________________________________________________________________________\n",
            "up_sampling2d_2 (UpSampling2D)  (None, 256, 256, 256 0           batch_normalization_13[0][0]     \n",
            "__________________________________________________________________________________________________\n",
            "conv2d_16 (Conv2D)              (None, 256, 256, 128 131200      up_sampling2d_2[0][0]            \n",
            "__________________________________________________________________________________________________\n",
            "conc_8 (Concatenate)            (None, 256, 256, 256 0           conv2d_16[0][0]                  \n",
            "                                                                 batch_normalization_3[0][0]      \n",
            "__________________________________________________________________________________________________\n",
            "conv2d_17 (Conv2D)              (None, 256, 256, 128 295040      conc_8[0][0]                     \n",
            "__________________________________________________________________________________________________\n",
            "batch_normalization_14 (BatchNo (None, 256, 256, 128 512         conv2d_17[0][0]                  \n",
            "__________________________________________________________________________________________________\n",
            "conv2d_18 (Conv2D)              (None, 256, 256, 128 147584      batch_normalization_14[0][0]     \n",
            "__________________________________________________________________________________________________\n",
            "batch_normalization_15 (BatchNo (None, 256, 256, 128 512         conv2d_18[0][0]                  \n",
            "__________________________________________________________________________________________________\n",
            "up_sampling2d_3 (UpSampling2D)  (None, 512, 512, 128 0           batch_normalization_15[0][0]     \n",
            "__________________________________________________________________________________________________\n",
            "conv2d_19 (Conv2D)              (None, 512, 512, 512 262656      up_sampling2d_3[0][0]            \n",
            "__________________________________________________________________________________________________\n",
            "conc_9 (Concatenate)            (None, 512, 512, 576 0           conv2d_19[0][0]                  \n",
            "                                                                 batch_normalization_1[0][0]      \n",
            "__________________________________________________________________________________________________\n",
            "conv2d_20 (Conv2D)              (None, 512, 512, 64) 331840      conc_9[0][0]                     \n",
            "__________________________________________________________________________________________________\n",
            "batch_normalization_16 (BatchNo (None, 512, 512, 64) 256         conv2d_20[0][0]                  \n",
            "__________________________________________________________________________________________________\n",
            "conv2d_21 (Conv2D)              (None, 512, 512, 64) 36928       batch_normalization_16[0][0]     \n",
            "__________________________________________________________________________________________________\n",
            "batch_normalization_17 (BatchNo (None, 512, 512, 64) 256         conv2d_21[0][0]                  \n",
            "__________________________________________________________________________________________________\n",
            "conv2d_22 (Conv2D)              (None, 512, 512, 3)  195         batch_normalization_17[0][0]     \n",
            "==================================================================================================\n",
            "Total params: 31,542,147\n",
            "Trainable params: 31,530,371\n",
            "Non-trainable params: 11,776\n",
            "__________________________________________________________________________________________________\n",
            "None\n"
          ],
          "name": "stdout"
        }
      ]
    },
    {
      "cell_type": "markdown",
      "metadata": {
        "id": "hs2xII7Uj4AM"
      },
      "source": [
        "### Entrenament\r\n",
        "---"
      ]
    },
    {
      "cell_type": "code",
      "metadata": {
        "colab": {
          "base_uri": "https://localhost:8080/"
        },
        "id": "FWMmAPHnuku3",
        "outputId": "22b48278-387c-40d4-feda-d3ea8b64ee94"
      },
      "source": [
        "model.fit(myGene, steps_per_epoch=300, epochs=10) # 300, 5"
      ],
      "execution_count": null,
      "outputs": [
        {
          "output_type": "stream",
          "text": [
            "Found 33 images belonging to 1 classes.\n",
            "Found 33 images belonging to 1 classes.\n",
            "Epoch 1/10\n",
            "300/300 [==============================] - 308s 972ms/step - loss: 0.2482 - categorical_accuracy: 0.5201\n",
            "Epoch 2/10\n",
            " 48/300 [===>..........................] - ETA: 4:03 - loss: 0.2223 - categorical_accuracy: 0.4927"
          ],
          "name": "stdout"
        }
      ]
    },
    {
      "cell_type": "markdown",
      "metadata": {
        "id": "bWPNcyPgwl_2"
      },
      "source": [
        "### Resultats - avaluació\n",
        "---\n"
      ]
    },
    {
      "cell_type": "code",
      "metadata": {
        "id": "uPOE8fTaguPO"
      },
      "source": [
        "testGene = testGenerator(test_path, target_size=(512, 512))\n",
        "results = model.predict(testGene, 16)"
      ],
      "execution_count": null,
      "outputs": []
    },
    {
      "cell_type": "code",
      "metadata": {
        "id": "IIw2z80wvVXW"
      },
      "source": [
        "def get_iou(ground, prediction, th, debug=False):\n",
        "  assert ground.shape[2] == prediction.shape[2]\n",
        "  \n",
        "  ground = ground.astype(np.float32) / ground.max()\n",
        "  ious = [0] * ground.shape[2]\n",
        "  \n",
        "  if debug:\n",
        "    fig = plt.figure(1,(16, 12))\n",
        "    idx = 1\n",
        "\n",
        "  for channel_idx in range(0, ground.shape[2]):\n",
        "\n",
        "    channel_gt = ground[:,:, channel_idx]\n",
        "    channel_pred = np.copy(prediction[:, :, channel_idx])\n",
        "    \n",
        "    channel_pred = cv2.resize(channel_pred, (channel_gt.shape[1], channel_gt.shape[0]), interpolation = cv2.INTER_NEAREST) \n",
        "\n",
        "    channel_pred[channel_pred <= th] = 0\n",
        "    channel_pred[channel_pred > th] = 1\n",
        " \n",
        "    intersection = cv2.bitwise_and(channel_gt, channel_pred)\n",
        "    intersection_area = np.count_nonzero(intersection)\n",
        "    \n",
        "    union = cv2.bitwise_or(channel_gt, channel_pred)\n",
        "    union_area = np.count_nonzero(union)\n",
        "    \n",
        "    if debug:\n",
        "      l = []\n",
        "      l.append(channel_gt)\n",
        "      l.append(channel_pred)\n",
        "      l.append(intersection)\n",
        "      l.append(union)\n",
        "    \n",
        "      for i in range(len(l)):\n",
        "        plt.subplot(3,4, idx)\n",
        "        plt.imshow(l[i], cmap=\"gray\");\n",
        "        idx += 1\n",
        "    \n",
        "    ious[channel_idx] += round(intersection_area / union_area, 3)\n",
        "    \n",
        "  return ious"
      ],
      "execution_count": null,
      "outputs": []
    },
    {
      "cell_type": "code",
      "metadata": {
        "id": "vh1u-AJDtS83"
      },
      "source": [
        "alpha = 0.5\n",
        "\n",
        "ious = []\n",
        "for idx, res in enumerate(results):\n",
        "  gt_image = cv2.imread(\"./unet_color_quatre/test/label/\" + str(idx) + \".png\")\n",
        "  # cv2 reads the images in BGR we convert them into rgb\n",
        "  gt_image = cv2.cvtColor(gt_image, cv2.COLOR_BGR2RGB) \n",
        "\n",
        "  gt_image = decode(gt_image)\n",
        "\n",
        "  iou = get_iou(gt_image, res, alpha)\n",
        "  ious.append(iou)\n",
        "\n",
        "  if idx < 10:\n",
        "    print(\"Image 0\"+ str(idx) + \": \" + str(iou))\n",
        "  else:\n",
        "    print(\"Image \"+ str(idx) + \": \" + str(iou))\n",
        "\n",
        "print(\"###########################################\")\n",
        "print(\"Mean: \", np.mean(ious, axis = 0))"
      ],
      "execution_count": null,
      "outputs": []
    },
    {
      "cell_type": "markdown",
      "metadata": {
        "id": "_jt6t3IqdNhH"
      },
      "source": [
        "La següent cel·la només serveix per evaluar el funcionament de _get_iou_"
      ]
    },
    {
      "cell_type": "code",
      "metadata": {
        "id": "tcRreiGbI76Q"
      },
      "source": [
        "index = 3\r\n",
        "\r\n",
        "ground = cv2.imread(\"./unet_color_quatre/test/label/\" + str(index) + \".png\")\r\n",
        "prediction = results[index]\r\n",
        "th = 0.5\r\n",
        "ground = decode(ground)\r\n",
        "get_iou(ground, prediction, th, True)"
      ],
      "execution_count": null,
      "outputs": []
    },
    {
      "cell_type": "code",
      "metadata": {
        "id": "5NOCoQBBpQk9"
      },
      "source": [
        "#BRUTOR\r\n",
        "index = 3\r\n",
        "ground = cv2.imread(\"./unet_color_quatre/test/label/\" + str(index) + \".png\")\r\n",
        "ground = decode(ground)\r\n",
        "\r\n",
        "ground = cv2.resize(ground, (512, 512), interpolation = cv2.INTER_NEAREST) \r\n",
        "prediction = results[index]\r\n",
        "\r\n",
        "g = K.constant(ground)\r\n",
        "p = K.constant(prediction)\r\n",
        "        # y_true, y_pred\r\n",
        "\r\n",
        "plt.subplot(1,2, 1)\r\n",
        "plt.imshow(ground, cmap=\"gray\");\r\n",
        "plt.subplot(1,2, 2)\r\n",
        "plt.imshow(prediction, cmap=\"gray\");\r\n",
        "\r\n",
        "dice_coef_loss(g, p)\r\n"
      ],
      "execution_count": null,
      "outputs": []
    },
    {
      "cell_type": "markdown",
      "metadata": {
        "id": "SVEzEIVki15l"
      },
      "source": [
        "Visualització dels resultats en format *RAW*"
      ]
    },
    {
      "cell_type": "code",
      "metadata": {
        "id": "G5xLEXPsXEBc"
      },
      "source": [
        "res = results[6] # Canviar aquest index per veure diferents imatges\r\n",
        "\r\n",
        "fig = plt.figure(1,(16,12))\r\n",
        "dim = res.shape[2]\r\n",
        "for i in range(dim):\r\n",
        "  plt.subplot(1, dim, i+1)\r\n",
        "  plt.imshow(res[:,:,i], cmap=\"gray\");"
      ],
      "execution_count": null,
      "outputs": []
    },
    {
      "cell_type": "markdown",
      "metadata": {
        "id": "Der_g64wjgjG"
      },
      "source": [
        "Guardar resultats en una carpeta anomenada Out\r\n",
        "\r\n",
        "*Nota: Es sobreescriuen els resultats anteriors*"
      ]
    },
    {
      "cell_type": "code",
      "metadata": {
        "id": "P_VFRU5OeUXb"
      },
      "source": [
        "**import os\n",
        "\n",
        "!rm -rf out/\n",
        "!mkdir out\n",
        "\n",
        "for idx, r in enumerate(results):\n",
        "  for c_idx in range(0, r.shape[2]):\n",
        "    path = \"./out/\" + str(c_idx) + \"/\"\n",
        "    if not os.path.exists(path): \n",
        "      os.makedirs(path)\n",
        "\n",
        "    cv2.imwrite(path + str(idx) + \".png\", r[:,:,c_idx]*255)"
      ],
      "execution_count": null,
      "outputs": []
    },
    {
      "cell_type": "code",
      "metadata": {
        "id": "M2qBqjpkgf_P"
      },
      "source": [
        "from google.colab import files\n",
        "\n",
        "!zip -r ./out.zip ./out > /dev/null\n",
        "files.download(\"./out.zip\");"
      ],
      "execution_count": null,
      "outputs": []
    }
  ]
}