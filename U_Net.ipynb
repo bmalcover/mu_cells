{
  "nbformat": 4,
  "nbformat_minor": 0,
  "metadata": {
    "accelerator": "GPU",
    "colab": {
      "name": "U-Net.ipynb",
      "provenance": [],
      "collapsed_sections": []
    },
    "kernelspec": {
      "display_name": "Python 3",
      "name": "python3"
    }
  },
  "cells": [
    {
      "cell_type": "markdown",
      "metadata": {
        "id": "YZ_9YMQZj-6V"
      },
      "source": [
        "# Classificació de cel·lules usant la U-Net\n",
        "\n",
        "**TODO: Descripcio**\n",
        "\n",
        "*La següent cel·la s'ha d'executar sempre*"
      ]
    },
    {
      "cell_type": "code",
      "metadata": {
        "id": "FbielMZVDjLg"
      },
      "source": [
        "from google.colab import drive\n",
        "drive.mount('/content/gdrive')"
      ],
      "execution_count": null,
      "outputs": []
    },
    {
      "cell_type": "code",
      "metadata": {
        "id": "PmOJX379CBNa"
      },
      "source": [
        "%cd gdrive/My Drive/u_net_folder"
      ],
      "execution_count": null,
      "outputs": []
    },
    {
      "cell_type": "code",
      "metadata": {
        "id": "QiDvEMVoD9gs"
      },
      "source": [
        "!git clone https://github.com/bmalcover/u_cells\n",
        "%cd u_cells\n",
        "!git checkout 'dev/miquel'\n",
        "%cd .."
      ],
      "execution_count": null,
      "outputs": []
    },
    {
      "cell_type": "markdown",
      "metadata": {
        "id": "a_aL_C7ID6vK"
      },
      "source": [
        "**DATA**\n",
        "\n",
        "Només executar si dins la carpeta *u_net_folder* no hi ha la carpeta *unet_color_quatre*"
      ]
    },
    {
      "cell_type": "code",
      "metadata": {
        "id": "4m51n8GG_v7J"
      },
      "source": [
        "#!wget -O dataset.zip https://www.dropbox.com/s/3zfz89hik6989h5/dataset.zip?dl=1\n",
        "!wget -O dataset_four.zip https://www.dropbox.com/s/0v6rdf3xhoge0vh/unet_color_quatre.zip?dl=1 \n",
        "#!wget -O dataset_gt.zip https://www.dropbox.com/s/wvjlpqykck6jwc6/unet_color_tres.zip?dl=1\n",
        "#!wget -O dataset_gros.zip https://www.dropbox.com/s/e7ndtiqce74gqli/sub.zip?dl=1\n",
        " \n",
        "#!unzip dataset.zip\n",
        "!unzip dataset_four.zip > /dev/null\n",
        "#!unzip dataset_gt.zip\n",
        "#!unzip dataset_gros.zip"
      ],
      "execution_count": null,
      "outputs": []
    },
    {
      "cell_type": "markdown",
      "metadata": {
        "id": "yLMGqb9qkYJG"
      },
      "source": [
        "Llibreries"
      ]
    },
    {
      "cell_type": "code",
      "metadata": {
        "id": "g4SSovO3EcTi"
      },
      "source": [
        "# %tensorflow_version 1.x\n",
        "import io\n",
        "from datetime import datetime\n",
        "\n",
        "from matplotlib import pyplot as plt\n",
        "\n",
        "from numpy.random import seed\n",
        "import tensorflow as tf\n",
        "from tensorflow.keras import metrics\n",
        "import keras\n",
        "import keras.backend as K\n",
        "from PIL import Image\n",
        "\n",
        "\n",
        "import numpy as np\n",
        "import cv2\n",
        "\n",
        "seed(1)\n",
        "#print(tf.__version__)"
      ],
      "execution_count": null,
      "outputs": []
    },
    {
      "cell_type": "markdown",
      "metadata": {
        "id": "yRYXhO98TKQD"
      },
      "source": [
        "Funcionalitats propies\n",
        "\n"
      ]
    },
    {
      "cell_type": "code",
      "metadata": {
        "id": "cLd9Ztk4Az92"
      },
      "source": [
        "%cd u_cells/\n",
        "\n",
        "from model import *\n",
        "from data import *\n",
        "\n",
        "%cd .."
      ],
      "execution_count": null,
      "outputs": []
    },
    {
      "cell_type": "markdown",
      "metadata": {
        "id": "blX2Fvo1jw_J"
      },
      "source": [
        "### Preparació de les dades i generació de la xarxa\n",
        "---"
      ]
    },
    {
      "cell_type": "code",
      "metadata": {
        "id": "gNJR2CqeEUX9"
      },
      "source": [
        "test_path_root = \"./unet_color_quatre/test/image/\"\n",
        "test_path = test_path_root + \"*.png\"\n",
        "train_path = './unet_color_quatre/train'\n",
        "generator_path = None #'./generator5/'\n",
        "tb_dir = \"./log/\" + datetime.now().strftime(\"%Y/%m/%d-%H:%M:%S\")\n",
        "# tb_cb = keras.callbacks.TensorBoard(tb_dir, write_graph=True, update_freq=10)\n",
        "\n",
        "data_gen_args = dict(rotation_range=0.2,\n",
        "\t\t\t\t\t\twidth_shift_range=0.05,\n",
        "\t\t\t\t\t\theight_shift_range=0.05,\n",
        "\t\t\t\t\t\tshear_range=0.05,\n",
        "\t\t\t\t\t\tzoom_range=0.05,\n",
        "\t\t\t\t\t\thorizontal_flip=True,\n",
        "\t\t\t\t\t\tfill_mode='nearest')\n",
        "\n",
        "train_generator = trainGenerator(2, train_path,'image','label',data_gen_args,save_to_dir = generator_path, mask_color_mode = \"rgb\", decode_flag=True, target_size=(512,512)) #AQui\n",
        "val_generator = trainGenerator(2, './unet_color_quatre/test','image','label',data_gen_args,save_to_dir = generator_path, mask_color_mode = \"rgb\", decode_flag=True, target_size=(512,512)) #AQui\n",
        "\n",
        "model = get_small_unet(n_filters=64, bn = True, input_size=(512,512,1), output_channels = 3, loss_func = dice_coef_loss) ### AqUI!!!!!\n",
        "# model_checkpoint = ModelCheckpoint('unet_membrane.hdf5', monitor='loss',verbose=1, save_best_only=True)\n",
        "#tf.keras.utils.plot_model(model, show_shapes=True, show_layer_names=True)\n",
        "\n"
      ],
      "execution_count": null,
      "outputs": []
    },
    {
      "cell_type": "markdown",
      "metadata": {
        "id": "hs2xII7Uj4AM"
      },
      "source": [
        "### Entrenament\n",
        "---"
      ]
    },
    {
      "cell_type": "code",
      "metadata": {
        "id": "FWMmAPHnuku3"
      },
      "source": [
        "model.fit(train_generator, validation_data = val_generator, validation_steps=100, steps_per_epoch=300, epochs=10) # 300, 5"
      ],
      "execution_count": null,
      "outputs": []
    },
    {
      "cell_type": "markdown",
      "metadata": {
        "id": "bWPNcyPgwl_2"
      },
      "source": [
        "### Resultats - avaluació\n",
        "---\n"
      ]
    },
    {
      "cell_type": "code",
      "metadata": {
        "id": "uPOE8fTaguPO"
      },
      "source": [
        "testGene = testGenerator(test_path, target_size=(512, 512))\n",
        "results = model.predict(testGene, 16)"
      ],
      "execution_count": null,
      "outputs": []
    },
    {
      "cell_type": "code",
      "metadata": {
        "id": "fkfSD7SMVnUA"
      },
      "source": [
        "plt.rcParams[\"figure.figsize\"] = (30,15)"
      ],
      "execution_count": null,
      "outputs": []
    },
    {
      "cell_type": "code",
      "metadata": {
        "id": "IIw2z80wvVXW"
      },
      "source": [
        "def remove_border_cells(contours, shape):\n",
        "    \"\"\"\n",
        "    Removes the objects from the borders of the image.\n",
        "\n",
        "    A border of an image is the zone near the start or the end of the matrix. \n",
        "    The index of this points are near 0 and near the shape of the image. The \n",
        "    contours checked as a parameter don't has that exactly index so is needed \n",
        "    to has an acceptable error.\n",
        "\n",
        "    Args:\n",
        "        contours: List of numpy arrays, every array its a different contour. The array has two\n",
        "                  columns and many rows as points in the contour. Depending of the appoximation\n",
        "                  method used\n",
        "        shape:\n",
        "\n",
        "    Returns:\n",
        "\n",
        "    \"\"\"\n",
        "    center_contours = []\n",
        "\n",
        "    for cont in contours:\n",
        "        cont = np.squeeze(cont)\n",
        "        border = not np.all(\n",
        "            (cont[:, 0] > 15) & (cont[:, 1] > 15) & (cont[:, 0] < shape[1] - 15) &\n",
        "            (cont[:, 1] < shape[0] - 15))\n",
        "\n",
        "        if not border:\n",
        "            center_contours.append(np.array([cont]).reshape((cont.shape[0], 1, \n",
        "                                                             cont.shape[1])))\n",
        "\n",
        "    return center_contours\n",
        "\n",
        "def get_iou(ground, prediction, th, debug=False, remove_border_segs = False):\n",
        "  assert ground.shape[2] == prediction.shape[2]\n",
        "  \n",
        "  ground = ground.astype(np.float32) / ground.max()\n",
        "  ious = [0] * ground.shape[2]\n",
        "  \n",
        "  if debug:\n",
        "    fig = plt.figure(1,(16, 12))\n",
        "    idx = 1\n",
        "\n",
        "  for channel_idx in range(0, ground.shape[2]):\n",
        "\n",
        "    channel_gt = ground[:,:, channel_idx]\n",
        "    channel_pred = np.copy(prediction[:, :, channel_idx])\n",
        "    \n",
        "    channel_pred = cv2.resize(channel_pred, (channel_gt.shape[1], channel_gt.shape[0]), interpolation = cv2.INTER_NEAREST) \n",
        "\n",
        "    channel_pred[channel_pred <= th] = 0\n",
        "    channel_pred[channel_pred > th] = 1\n",
        "\n",
        "    if remove_border_segs:\n",
        "      contours, _ = cv2.findContours((channel_pred * 255).astype(np.uint8), cv2.RETR_LIST, cv2.CHAIN_APPROX_NONE)\n",
        "      contours = remove_border_cells(contours, channel_pred.shape)\n",
        "\n",
        "      channel_pred = np.zeros_like(channel_pred)\n",
        "      channel_pred = cv2.drawContours(channel_pred, contours, -1, 1, -1)\n",
        " \n",
        "    intersection = cv2.bitwise_and(channel_gt, channel_pred)\n",
        "    intersection_area = np.count_nonzero(intersection)\n",
        "    \n",
        "    union = cv2.bitwise_or(channel_gt, channel_pred)\n",
        "    union_area = np.count_nonzero(union)\n",
        "    \n",
        "    if debug:\n",
        "      l = [channel_gt, channel_pred, intersection, union, (union-intersection)]\n",
        "      titles = [\"GT\", \"PRED\", \"INTERSEC\", \"UNION\", \"DIFF\"]\n",
        "    \n",
        "      for i in range(len(l)):\n",
        "        plt.title(titles[(i-1) % 5])\n",
        "        plt.subplot(3,5, idx)\n",
        "        plt.imshow(l[i], cmap=\"gray\");\n",
        "        idx += 1\n",
        "    \n",
        "    ious[channel_idx] += round(intersection_area / union_area, 3)\n",
        "    \n",
        "  return ious"
      ],
      "execution_count": null,
      "outputs": []
    },
    {
      "cell_type": "code",
      "metadata": {
        "id": "vh1u-AJDtS83"
      },
      "source": [
        "alpha = 0.5\n",
        "\n",
        "ious = []\n",
        "for idx, res in enumerate(results):\n",
        "  gt_image = cv2.imread(\"./unet_color_quatre/test/label/\" + str(idx) + \".png\")\n",
        "  # cv2 reads the images in BGR we convert them into rgb\n",
        "  gt_image = cv2.cvtColor(gt_image, cv2.COLOR_BGR2RGB) \n",
        "\n",
        "  gt_image = decode(gt_image)\n",
        "\n",
        "  iou = get_iou(gt_image, res, alpha)\n",
        "  ious.append(iou)\n",
        "\n",
        "  if idx < 10:\n",
        "    print(\"Image 0\"+ str(idx) + \": \" + str(iou))\n",
        "  else:\n",
        "    print(\"Image \"+ str(idx) + \": \" + str(iou))\n",
        "\n",
        "print(\"###########################################\")\n",
        "print(\"Mean: \", np.mean(ious, axis = 0))"
      ],
      "execution_count": null,
      "outputs": []
    },
    {
      "cell_type": "markdown",
      "metadata": {
        "id": "_jt6t3IqdNhH"
      },
      "source": [
        "La següent cel·la només serveix per evaluar el funcionament de _get_iou_"
      ]
    },
    {
      "cell_type": "code",
      "metadata": {
        "id": "tcRreiGbI76Q"
      },
      "source": [
        "index = 3\n",
        "\n",
        "ground = cv2.imread(\"./unet_color_quatre/test/label/\" + str(index) + \".png\")\n",
        "ground = cv2.cvtColor(ground, cv2.COLOR_BGR2RGB) \n",
        "\n",
        "prediction = results[index]\n",
        "th = 0.5\n",
        "ground = decode(ground)\n",
        "get_iou(ground, prediction, th, True)"
      ],
      "execution_count": null,
      "outputs": []
    },
    {
      "cell_type": "code",
      "metadata": {
        "id": "5NOCoQBBpQk9"
      },
      "source": [
        "#BRUTOR\n",
        "index = 3\n",
        "ground = cv2.imread(\"./unet_color_quatre/test/label/\" + str(index) + \".png\")\n",
        "ground = decode(ground)\n",
        "\n",
        "ground = cv2.resize(ground, (512, 512), interpolation = cv2.INTER_NEAREST) \n",
        "prediction = results[index]\n",
        "\n",
        "g = K.constant(ground)\n",
        "p = K.constant(prediction)\n",
        "        # y_true, y_pred\n",
        "\n",
        "plt.subplot(1,2, 1)\n",
        "plt.imshow(ground, cmap=\"gray\");\n",
        "plt.subplot(1,2, 2)\n",
        "plt.imshow(prediction, cmap=\"gray\");\n",
        "\n",
        "dice_coef_loss(g, p)\n"
      ],
      "execution_count": null,
      "outputs": []
    },
    {
      "cell_type": "markdown",
      "metadata": {
        "id": "SVEzEIVki15l"
      },
      "source": [
        "Visualització dels resultats en format *RAW*"
      ]
    },
    {
      "cell_type": "code",
      "metadata": {
        "id": "G5xLEXPsXEBc"
      },
      "source": [
        "res = results[6] # Canviar aquest index per veure diferents imatges\n",
        "\n",
        "fig = plt.figure(1,(16,12))\n",
        "dim = res.shape[2]\n",
        "for i in range(dim):\n",
        "  plt.subplot(1, dim, i+1)\n",
        "  plt.imshow(res[:,:,i], cmap=\"gray\");"
      ],
      "execution_count": null,
      "outputs": []
    },
    {
      "cell_type": "markdown",
      "metadata": {
        "id": "Der_g64wjgjG"
      },
      "source": [
        "Guardar resultats en una carpeta anomenada Out\n",
        "\n",
        "*Nota: Es sobreescriuen els resultats anteriors*"
      ]
    },
    {
      "cell_type": "code",
      "metadata": {
        "id": "P_VFRU5OeUXb"
      },
      "source": [
        "**import os\n",
        "\n",
        "!rm -rf out/\n",
        "!mkdir out\n",
        "\n",
        "for idx, r in enumerate(results):\n",
        "  for c_idx in range(0, r.shape[2]):\n",
        "    path = \"./out/\" + str(c_idx) + \"/\"\n",
        "    if not os.path.exists(path): \n",
        "      os.makedirs(path)\n",
        "\n",
        "    cv2.imwrite(path + str(idx) + \".png\", r[:,:,c_idx]*255)"
      ],
      "execution_count": null,
      "outputs": []
    },
    {
      "cell_type": "code",
      "metadata": {
        "id": "M2qBqjpkgf_P"
      },
      "source": [
        "from google.colab import files\n",
        "\n",
        "!zip -r ./out.zip ./out > /dev/null\n",
        "files.download(\"./out.zip\");"
      ],
      "execution_count": null,
      "outputs": []
    }
  ]
}