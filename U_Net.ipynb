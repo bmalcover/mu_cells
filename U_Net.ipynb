{
  "nbformat": 4,
  "nbformat_minor": 0,
  "metadata": {
    "accelerator": "GPU",
    "colab": {
      "name": "U-Net.ipynb",
      "provenance": [],
      "collapsed_sections": []
    },
    "kernelspec": {
      "display_name": "Python 3",
      "name": "python3"
    }
  },
  "cells": [
    {
      "cell_type": "markdown",
      "metadata": {
        "id": "YZ_9YMQZj-6V"
      },
      "source": [
        "# Classificació de cel·lules usant la U-Net\n",
        "\n",
        "**TODO: Descripcio**\n",
        "\n",
        "*La següent cel·la s'ha d'executar sempre*"
      ]
    },
    {
      "cell_type": "code",
      "metadata": {
        "id": "FbielMZVDjLg",
        "colab": {
          "base_uri": "https://localhost:8080/"
        },
        "outputId": "7d27d477-d18e-4821-d1db-541528b0975b"
      },
      "source": [
        "from google.colab import drive\n",
        "drive.mount('/content/gdrive')"
      ],
      "execution_count": 1,
      "outputs": [
        {
          "output_type": "stream",
          "text": [
            "Mounted at /content/gdrive\n"
          ],
          "name": "stdout"
        }
      ]
    },
    {
      "cell_type": "code",
      "metadata": {
        "id": "PmOJX379CBNa",
        "colab": {
          "base_uri": "https://localhost:8080/"
        },
        "outputId": "4ea35928-d51b-42c9-99cc-40a341e153e3"
      },
      "source": [
        "%cd gdrive/My Drive/Universidad/Alumno colaborador/u_net_folder"
      ],
      "execution_count": 2,
      "outputs": [
        {
          "output_type": "stream",
          "text": [
            "/content/gdrive/My Drive/Universidad/Alumno colaborador/u_net_folder\n"
          ],
          "name": "stdout"
        }
      ]
    },
    {
      "cell_type": "code",
      "metadata": {
        "id": "QiDvEMVoD9gs",
        "colab": {
          "base_uri": "https://localhost:8080/"
        },
        "outputId": "843bef16-fdd8-4ebf-8afa-270537d544f7"
      },
      "source": [
        "!git clone https://github.com/bmalcover/u_cells\n",
        "%cd u_cells\n",
        "!git checkout 'dev/iker'\n",
        "%cd .."
      ],
      "execution_count": null,
      "outputs": [
        {
          "output_type": "stream",
          "text": [
            "Cloning into 'u_cells'...\n",
            "remote: Enumerating objects: 22, done.\u001b[K\n",
            "remote: Counting objects: 100% (22/22), done.\u001b[K\n",
            "remote: Compressing objects: 100% (16/16), done.\u001b[K\n",
            "remote: Total 22 (delta 8), reused 14 (delta 5), pack-reused 0\u001b[K\n",
            "Unpacking objects: 100% (22/22), done.\n",
            "/content/u_cells\n",
            "Branch 'dev/iker' set up to track remote branch 'dev/iker' from 'origin'.\n",
            "Switched to a new branch 'dev/iker'\n",
            "/content\n"
          ],
          "name": "stdout"
        }
      ]
    },
    {
      "cell_type": "markdown",
      "metadata": {
        "id": "a_aL_C7ID6vK"
      },
      "source": [
        "**DATA**\n",
        "\n",
        "Només executar si dins la carpeta *u_net_folder* no hi ha la carpeta *unet_color_quatre*"
      ]
    },
    {
      "cell_type": "code",
      "metadata": {
        "id": "4m51n8GG_v7J",
        "colab": {
          "base_uri": "https://localhost:8080/"
        },
        "outputId": "dd45ca71-cc45-4f1a-be0c-8ec58617dcb0"
      },
      "source": [
        "#!wget -O dataset.zip https://www.dropbox.com/s/3zfz89hik6989h5/dataset.zip?dl=1\n",
        "!wget -O dataset_four.zip https://www.dropbox.com/s/0v6rdf3xhoge0vh/unet_color_quatre.zip?dl=1 \n",
        "#!wget -O dataset_gt.zip https://www.dropbox.com/s/wvjlpqykck6jwc6/unet_color_tres.zip?dl=1\n",
        "#!wget -O dataset_gros.zip https://www.dropbox.com/s/e7ndtiqce74gqli/sub.zip?dl=1\n",
        " \n",
        "#!unzip dataset.zip\n",
        "!unzip dataset_four.zip > /dev/null\n",
        "#!unzip dataset_gt.zip\n",
        "#!unzip dataset_gros.zip"
      ],
      "execution_count": null,
      "outputs": [
        {
          "output_type": "stream",
          "text": [
            "--2021-03-09 11:20:21--  https://www.dropbox.com/s/0v6rdf3xhoge0vh/unet_color_quatre.zip?dl=1\n",
            "Resolving www.dropbox.com (www.dropbox.com)... 162.125.6.18, 2620:100:6019:18::a27d:412\n",
            "Connecting to www.dropbox.com (www.dropbox.com)|162.125.6.18|:443... connected.\n",
            "HTTP request sent, awaiting response... 301 Moved Permanently\n",
            "Location: /s/dl/0v6rdf3xhoge0vh/unet_color_quatre.zip [following]\n",
            "--2021-03-09 11:20:21--  https://www.dropbox.com/s/dl/0v6rdf3xhoge0vh/unet_color_quatre.zip\n",
            "Reusing existing connection to www.dropbox.com:443.\n",
            "HTTP request sent, awaiting response... 302 Found\n",
            "Location: https://uc9339d6e4518217b131f48fac96.dl.dropboxusercontent.com/cd/0/get/BKWnYLPeIMYPd0XNgtPumkGm-yNIBJ5N_iHyl7JsUYFty6zn5Y_FPffKAN6bWl_HNXRKxEQr1S02cL31EtfAJ8SOhLL29wtGIJg-CwrHrctl9uWi-PBQRFSGunTLMwbTcF5imsTqa1bhJYYURxQ95XKv/file?dl=1# [following]\n",
            "--2021-03-09 11:20:22--  https://uc9339d6e4518217b131f48fac96.dl.dropboxusercontent.com/cd/0/get/BKWnYLPeIMYPd0XNgtPumkGm-yNIBJ5N_iHyl7JsUYFty6zn5Y_FPffKAN6bWl_HNXRKxEQr1S02cL31EtfAJ8SOhLL29wtGIJg-CwrHrctl9uWi-PBQRFSGunTLMwbTcF5imsTqa1bhJYYURxQ95XKv/file?dl=1\n",
            "Resolving uc9339d6e4518217b131f48fac96.dl.dropboxusercontent.com (uc9339d6e4518217b131f48fac96.dl.dropboxusercontent.com)... 162.125.7.15, 2620:100:6019:15::a27d:40f\n",
            "Connecting to uc9339d6e4518217b131f48fac96.dl.dropboxusercontent.com (uc9339d6e4518217b131f48fac96.dl.dropboxusercontent.com)|162.125.7.15|:443... connected.\n",
            "HTTP request sent, awaiting response... 200 OK\n",
            "Length: 146936667 (140M) [application/binary]\n",
            "Saving to: ‘dataset_four.zip’\n",
            "\n",
            "dataset_four.zip    100%[===================>] 140.13M  45.2MB/s    in 3.5s    \n",
            "\n",
            "2021-03-09 11:20:26 (40.0 MB/s) - ‘dataset_four.zip’ saved [146936667/146936667]\n",
            "\n"
          ],
          "name": "stdout"
        }
      ]
    },
    {
      "cell_type": "markdown",
      "metadata": {
        "id": "yLMGqb9qkYJG"
      },
      "source": [
        "Llibreries"
      ]
    },
    {
      "cell_type": "code",
      "metadata": {
        "id": "g4SSovO3EcTi"
      },
      "source": [
        "# %tensorflow_version 1.x\n",
        "import io\n",
        "from datetime import datetime\n",
        "\n",
        "from matplotlib import pyplot as plt\n",
        "\n",
        "from numpy.random import seed\n",
        "import tensorflow as tf\n",
        "from tensorflow.keras import metrics\n",
        "import keras\n",
        "import keras.backend as K\n",
        "from PIL import Image\n",
        "\n",
        "\n",
        "import numpy as np\n",
        "import cv2\n",
        "\n",
        "seed(1)\n",
        "#print(tf.__version__)"
      ],
      "execution_count": 3,
      "outputs": []
    },
    {
      "cell_type": "markdown",
      "metadata": {
        "id": "yRYXhO98TKQD"
      },
      "source": [
        "Funcionalitats propies\n",
        "\n"
      ]
    },
    {
      "cell_type": "code",
      "metadata": {
        "id": "cLd9Ztk4Az92",
        "colab": {
          "base_uri": "https://localhost:8080/"
        },
        "outputId": "4666d163-11f7-4599-fa18-fb31e3228190"
      },
      "source": [
        "%cd u_cells/\n",
        "\n",
        "from model import *\n",
        "from data import *\n",
        "\n",
        "%cd .."
      ],
      "execution_count": 4,
      "outputs": [
        {
          "output_type": "stream",
          "text": [
            "/content/gdrive/My Drive/Universidad/Alumno colaborador/u_net_folder/u_cells\n",
            "/content/gdrive/My Drive/Universidad/Alumno colaborador/u_net_folder\n"
          ],
          "name": "stdout"
        }
      ]
    },
    {
      "cell_type": "markdown",
      "metadata": {
        "id": "blX2Fvo1jw_J"
      },
      "source": [
        "### Preparació de les dades i generació de la xarxa\n",
        "---"
      ]
    },
    {
      "cell_type": "code",
      "metadata": {
        "id": "gNJR2CqeEUX9",
        "colab": {
          "base_uri": "https://localhost:8080/"
        },
        "outputId": "e017908c-b216-4635-a4be-33e93022cd26"
      },
      "source": [
        "test_path_root = \"./unet_color_quatre/test/image/\"\n",
        "test_path = test_path_root + \"*.png\"\n",
        "train_path = './unet_color_quatre/train'\n",
        "generator_path = None #'./generator5/'\n",
        "tb_dir = \"./log/\" + datetime.now().strftime(\"%Y/%m/%d-%H:%M:%S\")\n",
        "# tb_cb = keras.callbacks.TensorBoard(tb_dir, write_graph=True, update_freq=10)\n",
        "\n",
        "data_gen_args = dict(rotation_range=0.2,\n",
        "\t\t\t\t\t\twidth_shift_range=0.05,\n",
        "\t\t\t\t\t\theight_shift_range=0.05,\n",
        "\t\t\t\t\t\tshear_range=0.05,\n",
        "\t\t\t\t\t\tzoom_range=0.05,\n",
        "\t\t\t\t\t\thorizontal_flip=True,\n",
        "\t\t\t\t\t\tfill_mode='nearest')\n",
        "\n",
        "train_generator = trainGenerator(2, train_path,'image','label',data_gen_args,save_to_dir = generator_path, mask_color_mode = \"rgb\", decode_flag=True, target_size=(512,512)) #AQui\n",
        "val_generator = trainGenerator(2, './unet_color_quatre/test','image','label',data_gen_args,save_to_dir = generator_path, mask_color_mode = \"rgb\", decode_flag=True, target_size=(512,512)) #AQui\n",
        "\n",
        "model = get_small_unet(n_filters=64, bn = True, input_size=(512,512,1), output_channels = 1, loss_func = dice_coef_loss) ### AqUI!!!!!\n",
        "# model_checkpoint = ModelCheckpoint('unet_membrane.hdf5', monitor='loss',verbose=1, save_best_only=True)\n",
        "#tf.keras.utils.plot_model(model, show_shapes=True, show_layer_names=True)\n",
        "\n"
      ],
      "execution_count": 5,
      "outputs": [
        {
          "output_type": "stream",
          "text": [
            "Model: \"model\"\n",
            "__________________________________________________________________________________________________\n",
            "Layer (type)                    Output Shape         Param #     Connected to                     \n",
            "==================================================================================================\n",
            "input_1 (InputLayer)            [(None, 512, 512, 1) 0                                            \n",
            "__________________________________________________________________________________________________\n",
            "leaky_re_lu (LeakyReLU)         (None, 512, 512, 1)  0           input_1[0][0]                    \n",
            "__________________________________________________________________________________________________\n",
            "batch_normalization (BatchNorma (None, 512, 512, 1)  4           leaky_re_lu[0][0]                \n",
            "__________________________________________________________________________________________________\n",
            "conv2d_1 (Conv2D)               (None, 256, 256, 64) 640         batch_normalization[0][0]        \n",
            "__________________________________________________________________________________________________\n",
            "leaky_re_lu_1 (LeakyReLU)       (None, 256, 256, 64) 0           conv2d_1[0][0]                   \n",
            "__________________________________________________________________________________________________\n",
            "batch_normalization_1 (BatchNor (None, 256, 256, 64) 256         leaky_re_lu_1[0][0]              \n",
            "__________________________________________________________________________________________________\n",
            "conv2d_2 (Conv2D)               (None, 256, 256, 128 73856       batch_normalization_1[0][0]      \n",
            "__________________________________________________________________________________________________\n",
            "leaky_re_lu_2 (LeakyReLU)       (None, 256, 256, 128 0           conv2d_2[0][0]                   \n",
            "__________________________________________________________________________________________________\n",
            "batch_normalization_2 (BatchNor (None, 256, 256, 128 512         leaky_re_lu_2[0][0]              \n",
            "__________________________________________________________________________________________________\n",
            "conv2d_3 (Conv2D)               (None, 128, 128, 128 147584      batch_normalization_2[0][0]      \n",
            "__________________________________________________________________________________________________\n",
            "leaky_re_lu_3 (LeakyReLU)       (None, 128, 128, 128 0           conv2d_3[0][0]                   \n",
            "__________________________________________________________________________________________________\n",
            "batch_normalization_3 (BatchNor (None, 128, 128, 128 512         leaky_re_lu_3[0][0]              \n",
            "__________________________________________________________________________________________________\n",
            "conv2d_4 (Conv2D)               (None, 128, 128, 256 295168      batch_normalization_3[0][0]      \n",
            "__________________________________________________________________________________________________\n",
            "leaky_re_lu_4 (LeakyReLU)       (None, 128, 128, 256 0           conv2d_4[0][0]                   \n",
            "__________________________________________________________________________________________________\n",
            "batch_normalization_4 (BatchNor (None, 128, 128, 256 1024        leaky_re_lu_4[0][0]              \n",
            "__________________________________________________________________________________________________\n",
            "conv2d_5 (Conv2D)               (None, 64, 64, 256)  590080      batch_normalization_4[0][0]      \n",
            "__________________________________________________________________________________________________\n",
            "leaky_re_lu_5 (LeakyReLU)       (None, 64, 64, 256)  0           conv2d_5[0][0]                   \n",
            "__________________________________________________________________________________________________\n",
            "batch_normalization_5 (BatchNor (None, 64, 64, 256)  1024        leaky_re_lu_5[0][0]              \n",
            "__________________________________________________________________________________________________\n",
            "conv2d_6 (Conv2D)               (None, 64, 64, 512)  1180160     batch_normalization_5[0][0]      \n",
            "__________________________________________________________________________________________________\n",
            "leaky_re_lu_6 (LeakyReLU)       (None, 64, 64, 512)  0           conv2d_6[0][0]                   \n",
            "__________________________________________________________________________________________________\n",
            "batch_normalization_6 (BatchNor (None, 64, 64, 512)  2048        leaky_re_lu_6[0][0]              \n",
            "__________________________________________________________________________________________________\n",
            "conv2d_7 (Conv2D)               (None, 32, 32, 512)  2359808     batch_normalization_6[0][0]      \n",
            "__________________________________________________________________________________________________\n",
            "leaky_re_lu_7 (LeakyReLU)       (None, 32, 32, 512)  0           conv2d_7[0][0]                   \n",
            "__________________________________________________________________________________________________\n",
            "batch_normalization_7 (BatchNor (None, 32, 32, 512)  2048        leaky_re_lu_7[0][0]              \n",
            "__________________________________________________________________________________________________\n",
            "conv2d_8 (Conv2D)               (None, 32, 32, 1024) 4719616     batch_normalization_7[0][0]      \n",
            "__________________________________________________________________________________________________\n",
            "leaky_re_lu_8 (LeakyReLU)       (None, 32, 32, 1024) 0           conv2d_8[0][0]                   \n",
            "__________________________________________________________________________________________________\n",
            "batch_normalization_8 (BatchNor (None, 32, 32, 1024) 4096        leaky_re_lu_8[0][0]              \n",
            "__________________________________________________________________________________________________\n",
            "conv2d_9 (Conv2D)               (None, 16, 16, 1024) 9438208     batch_normalization_8[0][0]      \n",
            "__________________________________________________________________________________________________\n",
            "batch_normalization_9 (BatchNor (None, 16, 16, 1024) 4096        conv2d_9[0][0]                   \n",
            "__________________________________________________________________________________________________\n",
            "up_sampling2d (UpSampling2D)    (None, 32, 32, 1024) 0           batch_normalization_9[0][0]      \n",
            "__________________________________________________________________________________________________\n",
            "conv2d_10 (Conv2D)              (None, 32, 32, 512)  2097664     up_sampling2d[0][0]              \n",
            "__________________________________________________________________________________________________\n",
            "concatenate (Concatenate)       (None, 32, 32, 1536) 0           conv2d_10[0][0]                  \n",
            "                                                                 batch_normalization_8[0][0]      \n",
            "__________________________________________________________________________________________________\n",
            "conv2d_11 (Conv2D)              (None, 32, 32, 512)  7078400     concatenate[0][0]                \n",
            "__________________________________________________________________________________________________\n",
            "batch_normalization_10 (BatchNo (None, 32, 32, 512)  2048        conv2d_11[0][0]                  \n",
            "__________________________________________________________________________________________________\n",
            "conv2d_12 (Conv2D)              (None, 32, 32, 512)  2359808     batch_normalization_10[0][0]     \n",
            "__________________________________________________________________________________________________\n",
            "batch_normalization_11 (BatchNo (None, 32, 32, 512)  2048        conv2d_12[0][0]                  \n",
            "__________________________________________________________________________________________________\n",
            "up_sampling2d_1 (UpSampling2D)  (None, 64, 64, 512)  0           batch_normalization_11[0][0]     \n",
            "__________________________________________________________________________________________________\n",
            "conv2d_13 (Conv2D)              (None, 64, 64, 256)  524544      up_sampling2d_1[0][0]            \n",
            "__________________________________________________________________________________________________\n",
            "conc_7 (Concatenate)            (None, 64, 64, 768)  0           conv2d_13[0][0]                  \n",
            "                                                                 batch_normalization_6[0][0]      \n",
            "__________________________________________________________________________________________________\n",
            "conv2d_14 (Conv2D)              (None, 64, 64, 256)  1769728     conc_7[0][0]                     \n",
            "__________________________________________________________________________________________________\n",
            "batch_normalization_12 (BatchNo (None, 64, 64, 256)  1024        conv2d_14[0][0]                  \n",
            "__________________________________________________________________________________________________\n",
            "conv2d_15 (Conv2D)              (None, 64, 64, 256)  590080      batch_normalization_12[0][0]     \n",
            "__________________________________________________________________________________________________\n",
            "batch_normalization_13 (BatchNo (None, 64, 64, 256)  1024        conv2d_15[0][0]                  \n",
            "__________________________________________________________________________________________________\n",
            "up_sampling2d_2 (UpSampling2D)  (None, 128, 128, 256 0           batch_normalization_13[0][0]     \n",
            "__________________________________________________________________________________________________\n",
            "conv2d_16 (Conv2D)              (None, 128, 128, 128 131200      up_sampling2d_2[0][0]            \n",
            "__________________________________________________________________________________________________\n",
            "conc_8 (Concatenate)            (None, 128, 128, 384 0           conv2d_16[0][0]                  \n",
            "                                                                 batch_normalization_4[0][0]      \n",
            "__________________________________________________________________________________________________\n",
            "conv2d_17 (Conv2D)              (None, 128, 128, 128 442496      conc_8[0][0]                     \n",
            "__________________________________________________________________________________________________\n",
            "batch_normalization_14 (BatchNo (None, 128, 128, 128 512         conv2d_17[0][0]                  \n",
            "__________________________________________________________________________________________________\n",
            "conv2d_18 (Conv2D)              (None, 128, 128, 128 147584      batch_normalization_14[0][0]     \n",
            "__________________________________________________________________________________________________\n",
            "batch_normalization_15 (BatchNo (None, 128, 128, 128 512         conv2d_18[0][0]                  \n",
            "__________________________________________________________________________________________________\n",
            "up_sampling2d_3 (UpSampling2D)  (None, 256, 256, 128 0           batch_normalization_15[0][0]     \n",
            "__________________________________________________________________________________________________\n",
            "conv2d_19 (Conv2D)              (None, 256, 256, 512 262656      up_sampling2d_3[0][0]            \n",
            "__________________________________________________________________________________________________\n",
            "conc_9 (Concatenate)            (None, 256, 256, 640 0           conv2d_19[0][0]                  \n",
            "                                                                 batch_normalization_2[0][0]      \n",
            "__________________________________________________________________________________________________\n",
            "conv2d_20 (Conv2D)              (None, 256, 256, 64) 368704      conc_9[0][0]                     \n",
            "__________________________________________________________________________________________________\n",
            "batch_normalization_16 (BatchNo (None, 256, 256, 64) 256         conv2d_20[0][0]                  \n",
            "__________________________________________________________________________________________________\n",
            "conv2d_21 (Conv2D)              (None, 256, 256, 64) 36928       batch_normalization_16[0][0]     \n",
            "__________________________________________________________________________________________________\n",
            "batch_normalization_17 (BatchNo (None, 256, 256, 64) 256         conv2d_21[0][0]                  \n",
            "__________________________________________________________________________________________________\n",
            "up_sampling2d_4 (UpSampling2D)  (None, 512, 512, 64) 0           batch_normalization_17[0][0]     \n",
            "__________________________________________________________________________________________________\n",
            "conv2d_22 (Conv2D)              (None, 512, 512, 512 131584      up_sampling2d_4[0][0]            \n",
            "__________________________________________________________________________________________________\n",
            "conc_10 (Concatenate)           (None, 512, 512, 513 0           conv2d_22[0][0]                  \n",
            "                                                                 batch_normalization[0][0]        \n",
            "__________________________________________________________________________________________________\n",
            "conv2d_23 (Conv2D)              (None, 512, 512, 64) 295552      conc_10[0][0]                    \n",
            "__________________________________________________________________________________________________\n",
            "batch_normalization_18 (BatchNo (None, 512, 512, 64) 256         conv2d_23[0][0]                  \n",
            "__________________________________________________________________________________________________\n",
            "conv2d_24 (Conv2D)              (None, 512, 512, 64) 36928       batch_normalization_18[0][0]     \n",
            "__________________________________________________________________________________________________\n",
            "batch_normalization_19 (BatchNo (None, 512, 512, 64) 256         conv2d_24[0][0]                  \n",
            "__________________________________________________________________________________________________\n",
            "conv2d_25 (Conv2D)              (None, 512, 512, 1)  65          batch_normalization_19[0][0]     \n",
            "==================================================================================================\n",
            "Total params: 35,102,853\n",
            "Trainable params: 35,090,947\n",
            "Non-trainable params: 11,906\n",
            "__________________________________________________________________________________________________\n",
            "None\n"
          ],
          "name": "stdout"
        }
      ]
    },
    {
      "cell_type": "markdown",
      "metadata": {
        "id": "hs2xII7Uj4AM"
      },
      "source": [
        "### Entrenament\n",
        "---"
      ]
    },
    {
      "cell_type": "code",
      "metadata": {
        "id": "FWMmAPHnuku3",
        "colab": {
          "base_uri": "https://localhost:8080/",
          "height": 1000
        },
        "outputId": "567de13e-acd7-494a-a831-2cc082241d49"
      },
      "source": [
        "model.fit(train_generator, validation_data = val_generator, validation_steps=100, steps_per_epoch=300, epochs=10) # 300, 5"
      ],
      "execution_count": 6,
      "outputs": [
        {
          "output_type": "stream",
          "text": [
            "Found 33 images belonging to 1 classes.\n",
            "Found 33 images belonging to 1 classes.\n",
            "Epoch 1/10\n",
            "  6/300 [..............................] - ETA: 8:14 - loss: 0.4068 - categorical_accuracy: 0.8235"
          ],
          "name": "stdout"
        },
        {
          "output_type": "stream",
          "text": [
            "ERROR:root:Internal Python error in the inspect module.\n",
            "Below is the traceback from this internal error.\n",
            "\n"
          ],
          "name": "stderr"
        },
        {
          "output_type": "stream",
          "text": [
            "Traceback (most recent call last):\n",
            "  File \"/usr/local/lib/python3.7/dist-packages/IPython/core/interactiveshell.py\", line 2882, in run_code\n",
            "    exec(code_obj, self.user_global_ns, self.user_ns)\n",
            "  File \"<ipython-input-6-47f11947a269>\", line 1, in <module>\n",
            "    model.fit(train_generator, validation_data = val_generator, validation_steps=100, steps_per_epoch=300, epochs=10) # 300, 5\n",
            "  File \"/usr/local/lib/python3.7/dist-packages/tensorflow/python/keras/engine/training.py\", line 1100, in fit\n",
            "    tmp_logs = self.train_function(iterator)\n",
            "  File \"/usr/local/lib/python3.7/dist-packages/tensorflow/python/eager/def_function.py\", line 828, in __call__\n",
            "    result = self._call(*args, **kwds)\n",
            "  File \"/usr/local/lib/python3.7/dist-packages/tensorflow/python/eager/def_function.py\", line 855, in _call\n",
            "    return self._stateless_fn(*args, **kwds)  # pylint: disable=not-callable\n",
            "  File \"/usr/local/lib/python3.7/dist-packages/tensorflow/python/eager/function.py\", line 2943, in __call__\n",
            "    filtered_flat_args, captured_inputs=graph_function.captured_inputs)  # pylint: disable=protected-access\n",
            "  File \"/usr/local/lib/python3.7/dist-packages/tensorflow/python/eager/function.py\", line 1919, in _call_flat\n",
            "    ctx, args, cancellation_manager=cancellation_manager))\n",
            "  File \"/usr/local/lib/python3.7/dist-packages/tensorflow/python/eager/function.py\", line 560, in call\n",
            "    ctx=ctx)\n",
            "  File \"/usr/local/lib/python3.7/dist-packages/tensorflow/python/eager/execute.py\", line 60, in quick_execute\n",
            "    inputs, attrs, num_outputs)\n",
            "KeyboardInterrupt\n",
            "\n",
            "During handling of the above exception, another exception occurred:\n",
            "\n",
            "Traceback (most recent call last):\n",
            "  File \"/usr/local/lib/python3.7/dist-packages/IPython/core/interactiveshell.py\", line 1823, in showtraceback\n",
            "    stb = value._render_traceback_()\n",
            "AttributeError: 'KeyboardInterrupt' object has no attribute '_render_traceback_'\n",
            "\n",
            "During handling of the above exception, another exception occurred:\n",
            "\n",
            "Traceback (most recent call last):\n",
            "  File \"/usr/local/lib/python3.7/dist-packages/IPython/core/ultratb.py\", line 1132, in get_records\n",
            "    return _fixed_getinnerframes(etb, number_of_lines_of_context, tb_offset)\n",
            "  File \"/usr/local/lib/python3.7/dist-packages/IPython/core/ultratb.py\", line 313, in wrapped\n",
            "    return f(*args, **kwargs)\n",
            "  File \"/usr/local/lib/python3.7/dist-packages/IPython/core/ultratb.py\", line 358, in _fixed_getinnerframes\n",
            "    records = fix_frame_records_filenames(inspect.getinnerframes(etb, context))\n",
            "  File \"/usr/lib/python3.7/inspect.py\", line 1502, in getinnerframes\n",
            "    frameinfo = (tb.tb_frame,) + getframeinfo(tb, context)\n",
            "  File \"/usr/lib/python3.7/inspect.py\", line 1460, in getframeinfo\n",
            "    filename = getsourcefile(frame) or getfile(frame)\n",
            "  File \"/usr/lib/python3.7/inspect.py\", line 696, in getsourcefile\n",
            "    if getattr(getmodule(object, filename), '__loader__', None) is not None:\n",
            "  File \"/usr/lib/python3.7/inspect.py\", line 742, in getmodule\n",
            "    os.path.realpath(f)] = module.__name__\n",
            "  File \"/usr/lib/python3.7/posixpath.py\", line 395, in realpath\n",
            "    path, ok = _joinrealpath(filename[:0], filename, {})\n",
            "  File \"/usr/lib/python3.7/posixpath.py\", line 429, in _joinrealpath\n",
            "    if not islink(newpath):\n",
            "  File \"/usr/lib/python3.7/posixpath.py\", line 171, in islink\n",
            "    st = os.lstat(path)\n",
            "KeyboardInterrupt\n"
          ],
          "name": "stdout"
        },
        {
          "output_type": "error",
          "ename": "KeyboardInterrupt",
          "evalue": "ignored",
          "traceback": [
            "\u001b[0;31m---------------------------------------------------------------------------\u001b[0m"
          ]
        }
      ]
    },
    {
      "cell_type": "markdown",
      "metadata": {
        "id": "bWPNcyPgwl_2"
      },
      "source": [
        "### Resultats - avaluació\n",
        "---\n"
      ]
    },
    {
      "cell_type": "code",
      "metadata": {
        "id": "uPOE8fTaguPO"
      },
      "source": [
        "testGene = testGenerator(test_path, target_size=(512, 512))\n",
        "results = model.predict(testGene, 16)"
      ],
      "execution_count": null,
      "outputs": []
    },
    {
      "cell_type": "code",
      "metadata": {
        "id": "fkfSD7SMVnUA"
      },
      "source": [
        "plt.rcParams[\"figure.figsize\"] = (30,15)"
      ],
      "execution_count": null,
      "outputs": []
    },
    {
      "cell_type": "code",
      "metadata": {
        "id": "IIw2z80wvVXW"
      },
      "source": [
        "def remove_border_cells(contours, shape):\n",
        "    \"\"\"\n",
        "    Removes the objects from the borders of the image.\n",
        "\n",
        "    A border of an image is the zone near the start or the end of the matrix. \n",
        "    The index of this points are near 0 and near the shape of the image. The \n",
        "    contours checked as a parameter don't has that exactly index so is needed \n",
        "    to has an acceptable error.\n",
        "\n",
        "    Args:\n",
        "        contours: List of numpy arrays, every array its a different contour. The array has two\n",
        "                  columns and many rows as points in the contour. Depending of the appoximation\n",
        "                  method used\n",
        "        shape:\n",
        "\n",
        "    Returns:\n",
        "\n",
        "    \"\"\"\n",
        "    center_contours = []\n",
        "\n",
        "    for cont in contours:\n",
        "        cont = np.squeeze(cont)\n",
        "        border = not np.all(\n",
        "            (cont[:, 0] > 15) & (cont[:, 1] > 15) & (cont[:, 0] < shape[1] - 15) &\n",
        "            (cont[:, 1] < shape[0] - 15))\n",
        "\n",
        "        if not border:\n",
        "            center_contours.append(np.array([cont]).reshape((cont.shape[0], 1, \n",
        "                                                             cont.shape[1])))\n",
        "\n",
        "    return center_contours\n",
        "\n",
        "def get_iou(ground, prediction, th, debug=False, remove_border_segs = False):\n",
        "  assert ground.shape[2] == prediction.shape[2]\n",
        "  \n",
        "  ground = ground.astype(np.float32) / ground.max()\n",
        "  ious = [0] * ground.shape[2]\n",
        "  \n",
        "  if debug:\n",
        "    fig = plt.figure(1,(16, 12))\n",
        "    idx = 1\n",
        "\n",
        "  for channel_idx in range(0, ground.shape[2]):\n",
        "\n",
        "    channel_gt = ground[:,:, channel_idx]\n",
        "    channel_pred = np.copy(prediction[:, :, channel_idx])\n",
        "    \n",
        "    channel_pred = cv2.resize(channel_pred, (channel_gt.shape[1], channel_gt.shape[0]), interpolation = cv2.INTER_NEAREST) \n",
        "\n",
        "    channel_pred[channel_pred <= th] = 0\n",
        "    channel_pred[channel_pred > th] = 1\n",
        "\n",
        "    if remove_border_segs:\n",
        "      contours, _ = cv2.findContours((channel_pred * 255).astype(np.uint8), cv2.RETR_LIST, cv2.CHAIN_APPROX_NONE)\n",
        "      contours = remove_border_cells(contours, channel_pred.shape)\n",
        "\n",
        "      channel_pred = np.zeros_like(channel_pred)\n",
        "      channel_pred = cv2.drawContours(channel_pred, contours, -1, 1, -1)\n",
        " \n",
        "    intersection = cv2.bitwise_and(channel_gt, channel_pred)\n",
        "    intersection_area = np.count_nonzero(intersection)\n",
        "    \n",
        "    union = cv2.bitwise_or(channel_gt, channel_pred)\n",
        "    union_area = np.count_nonzero(union)\n",
        "    \n",
        "    if debug:\n",
        "      l = [channel_gt, channel_pred, intersection, union, (union-intersection)]\n",
        "      titles = [\"GT\", \"PRED\", \"INTERSEC\", \"UNION\", \"DIFF\"]\n",
        "    \n",
        "      for i in range(len(l)):\n",
        "        plt.title(titles[(i-1) % 5])\n",
        "        plt.subplot(3,5, idx)\n",
        "        plt.imshow(l[i], cmap=\"gray\");\n",
        "        idx += 1\n",
        "    \n",
        "    ious[channel_idx] += round(intersection_area / union_area, 3)\n",
        "    \n",
        "  return ious"
      ],
      "execution_count": null,
      "outputs": []
    },
    {
      "cell_type": "code",
      "metadata": {
        "id": "vh1u-AJDtS83"
      },
      "source": [
        "alpha = 0.5\n",
        "\n",
        "ious = []\n",
        "for idx, res in enumerate(results):\n",
        "  gt_image = cv2.imread(\"./unet_color_quatre/test/label/\" + str(idx) + \".png\")\n",
        "  # cv2 reads the images in BGR we convert them into rgb\n",
        "  gt_image = cv2.cvtColor(gt_image, cv2.COLOR_BGR2RGB) \n",
        "\n",
        "  gt_image = decode(gt_image)\n",
        "\n",
        "  iou = get_iou(gt_image, res, alpha)\n",
        "  ious.append(iou)\n",
        "\n",
        "  if idx < 10:\n",
        "    print(\"Image 0\"+ str(idx) + \": \" + str(iou))\n",
        "  else:\n",
        "    print(\"Image \"+ str(idx) + \": \" + str(iou))\n",
        "\n",
        "print(\"###########################################\")\n",
        "print(\"Mean: \", np.mean(ious, axis = 0))"
      ],
      "execution_count": null,
      "outputs": []
    },
    {
      "cell_type": "markdown",
      "metadata": {
        "id": "_jt6t3IqdNhH"
      },
      "source": [
        "La següent cel·la només serveix per evaluar el funcionament de _get_iou_"
      ]
    },
    {
      "cell_type": "code",
      "metadata": {
        "id": "tcRreiGbI76Q"
      },
      "source": [
        "index = 3\n",
        "\n",
        "ground = cv2.imread(\"./unet_color_quatre/test/label/\" + str(index) + \".png\")\n",
        "prediction = results[index]\n",
        "th = 0.5\n",
        "ground = decode(ground)\n",
        "get_iou(ground, prediction, th, True)"
      ],
      "execution_count": null,
      "outputs": []
    },
    {
      "cell_type": "code",
      "metadata": {
        "id": "5NOCoQBBpQk9"
      },
      "source": [
        "#BRUTOR\n",
        "index = 3\n",
        "ground = cv2.imread(\"./unet_color_quatre/test/label/\" + str(index) + \".png\")\n",
        "ground = decode(ground)\n",
        "\n",
        "ground = cv2.resize(ground, (512, 512), interpolation = cv2.INTER_NEAREST) \n",
        "prediction = results[index]\n",
        "\n",
        "g = K.constant(ground)\n",
        "p = K.constant(prediction)\n",
        "        # y_true, y_pred\n",
        "\n",
        "plt.subplot(1,2, 1)\n",
        "plt.imshow(ground, cmap=\"gray\");\n",
        "plt.subplot(1,2, 2)\n",
        "plt.imshow(prediction, cmap=\"gray\");\n",
        "\n",
        "dice_coef_loss(g, p)\n"
      ],
      "execution_count": null,
      "outputs": []
    },
    {
      "cell_type": "markdown",
      "metadata": {
        "id": "SVEzEIVki15l"
      },
      "source": [
        "Visualització dels resultats en format *RAW*"
      ]
    },
    {
      "cell_type": "code",
      "metadata": {
        "id": "G5xLEXPsXEBc"
      },
      "source": [
        "res = results[6] # Canviar aquest index per veure diferents imatges\n",
        "\n",
        "fig = plt.figure(1,(16,12))\n",
        "dim = res.shape[2]\n",
        "for i in range(dim):\n",
        "  plt.subplot(1, dim, i+1)\n",
        "  plt.imshow(res[:,:,i], cmap=\"gray\");"
      ],
      "execution_count": null,
      "outputs": []
    },
    {
      "cell_type": "markdown",
      "metadata": {
        "id": "Der_g64wjgjG"
      },
      "source": [
        "Guardar resultats en una carpeta anomenada Out\n",
        "\n",
        "*Nota: Es sobreescriuen els resultats anteriors*"
      ]
    },
    {
      "cell_type": "code",
      "metadata": {
        "id": "P_VFRU5OeUXb"
      },
      "source": [
        "import os\n",
        "\n",
        "!rm -rf out/\n",
        "!mkdir out\n",
        "\n",
        "for idx, r in enumerate(results):\n",
        "  for c_idx in range(0, r.shape[2]):\n",
        "    path = \"./out/\" + str(c_idx) + \"/\"\n",
        "    if not os.path.exists(path): \n",
        "      os.makedirs(path)\n",
        "\n",
        "    cv2.imwrite(path + str(idx) + \".png\", r[:,:,c_idx]*255)"
      ],
      "execution_count": null,
      "outputs": []
    },
    {
      "cell_type": "code",
      "metadata": {
        "id": "M2qBqjpkgf_P"
      },
      "source": [
        "from google.colab import files\n",
        "\n",
        "!zip -r ./out.zip ./out > /dev/null\n",
        "files.download(\"./out.zip\");"
      ],
      "execution_count": null,
      "outputs": []
    }
  ]
}